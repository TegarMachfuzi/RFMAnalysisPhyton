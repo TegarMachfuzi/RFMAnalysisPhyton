{
 "cells": [
  {
   "cell_type": "code",
   "execution_count": 38,
   "metadata": {},
   "outputs": [],
   "source": [
    "import pandas as pd\n",
    "import numpy as np\n",
    "import matplotlib.pyplot as plt"
   ]
  },
  {
   "cell_type": "code",
   "execution_count": 120,
   "metadata": {},
   "outputs": [],
   "source": [
    "df = pd.read_csv('data_penjualan.csv', usecols=['ReceiptNumber', 'Date', 'Items', 'Quantity', 'NetSales', 'Category'])"
   ]
  },
  {
   "cell_type": "code",
   "execution_count": 121,
   "metadata": {},
   "outputs": [
    {
     "data": {
      "text/html": [
       "<div>\n",
       "<style scoped>\n",
       "    .dataframe tbody tr th:only-of-type {\n",
       "        vertical-align: middle;\n",
       "    }\n",
       "\n",
       "    .dataframe tbody tr th {\n",
       "        vertical-align: top;\n",
       "    }\n",
       "\n",
       "    .dataframe thead th {\n",
       "        text-align: right;\n",
       "    }\n",
       "</style>\n",
       "<table border=\"1\" class=\"dataframe\">\n",
       "  <thead>\n",
       "    <tr style=\"text-align: right;\">\n",
       "      <th></th>\n",
       "      <th>ReceiptNumber</th>\n",
       "      <th>Date</th>\n",
       "      <th>Category</th>\n",
       "      <th>Items</th>\n",
       "      <th>Quantity</th>\n",
       "      <th>NetSales</th>\n",
       "    </tr>\n",
       "  </thead>\n",
       "  <tbody>\n",
       "    <tr>\n",
       "      <th>0</th>\n",
       "      <td>TSBZIO</td>\n",
       "      <td>1/1/2023</td>\n",
       "      <td>Tea</td>\n",
       "      <td>Lemon Tea</td>\n",
       "      <td>1.0</td>\n",
       "      <td>14400.0</td>\n",
       "    </tr>\n",
       "    <tr>\n",
       "      <th>1</th>\n",
       "      <td>TSBZIP</td>\n",
       "      <td>1/1/2023</td>\n",
       "      <td>Tea</td>\n",
       "      <td>Lychee Tea</td>\n",
       "      <td>1.0</td>\n",
       "      <td>20800.0</td>\n",
       "    </tr>\n",
       "    <tr>\n",
       "      <th>2</th>\n",
       "      <td>TSBZIP</td>\n",
       "      <td>1/1/2023</td>\n",
       "      <td>Signature Coffee</td>\n",
       "      <td>Kopi Rakyat</td>\n",
       "      <td>1.0</td>\n",
       "      <td>16000.0</td>\n",
       "    </tr>\n",
       "    <tr>\n",
       "      <th>3</th>\n",
       "      <td>TSBZIR</td>\n",
       "      <td>1/1/2023</td>\n",
       "      <td>Signature Coffee</td>\n",
       "      <td>Kopi Rakyat</td>\n",
       "      <td>3.0</td>\n",
       "      <td>78000.0</td>\n",
       "    </tr>\n",
       "    <tr>\n",
       "      <th>4</th>\n",
       "      <td>TSBZIR</td>\n",
       "      <td>1/1/2023</td>\n",
       "      <td>Signature Coffee</td>\n",
       "      <td>Kopi Rakyat</td>\n",
       "      <td>1.0</td>\n",
       "      <td>26000.0</td>\n",
       "    </tr>\n",
       "    <tr>\n",
       "      <th>...</th>\n",
       "      <td>...</td>\n",
       "      <td>...</td>\n",
       "      <td>...</td>\n",
       "      <td>...</td>\n",
       "      <td>...</td>\n",
       "      <td>...</td>\n",
       "    </tr>\n",
       "    <tr>\n",
       "      <th>995</th>\n",
       "      <td>TSC0J2</td>\n",
       "      <td>1/14/2023</td>\n",
       "      <td>Milk Based</td>\n",
       "      <td>Matcha Latte</td>\n",
       "      <td>1.0</td>\n",
       "      <td>30000.0</td>\n",
       "    </tr>\n",
       "    <tr>\n",
       "      <th>996</th>\n",
       "      <td>TSC0J2</td>\n",
       "      <td>1/14/2023</td>\n",
       "      <td>Signature Coffee</td>\n",
       "      <td>Kopi Sultan</td>\n",
       "      <td>1.0</td>\n",
       "      <td>29000.0</td>\n",
       "    </tr>\n",
       "    <tr>\n",
       "      <th>997</th>\n",
       "      <td>TSC0J3</td>\n",
       "      <td>1/14/2023</td>\n",
       "      <td>Main Course</td>\n",
       "      <td>Bolognaise</td>\n",
       "      <td>1.0</td>\n",
       "      <td>40000.0</td>\n",
       "    </tr>\n",
       "    <tr>\n",
       "      <th>998</th>\n",
       "      <td>TSC0J3</td>\n",
       "      <td>1/14/2023</td>\n",
       "      <td>Side Dish</td>\n",
       "      <td>Sosis Bakar</td>\n",
       "      <td>1.0</td>\n",
       "      <td>28000.0</td>\n",
       "    </tr>\n",
       "    <tr>\n",
       "      <th>999</th>\n",
       "      <td>TSC0J5</td>\n",
       "      <td>1/14/2023</td>\n",
       "      <td>Tea</td>\n",
       "      <td>Lemon Tea</td>\n",
       "      <td>1.0</td>\n",
       "      <td>26000.0</td>\n",
       "    </tr>\n",
       "  </tbody>\n",
       "</table>\n",
       "<p>1000 rows × 6 columns</p>\n",
       "</div>"
      ],
      "text/plain": [
       "    ReceiptNumber       Date          Category         Items  Quantity  \\\n",
       "0          TSBZIO   1/1/2023               Tea     Lemon Tea       1.0   \n",
       "1          TSBZIP   1/1/2023               Tea    Lychee Tea       1.0   \n",
       "2          TSBZIP   1/1/2023  Signature Coffee   Kopi Rakyat       1.0   \n",
       "3          TSBZIR   1/1/2023  Signature Coffee   Kopi Rakyat       3.0   \n",
       "4          TSBZIR   1/1/2023  Signature Coffee   Kopi Rakyat       1.0   \n",
       "..            ...        ...               ...           ...       ...   \n",
       "995        TSC0J2  1/14/2023        Milk Based  Matcha Latte       1.0   \n",
       "996        TSC0J2  1/14/2023  Signature Coffee   Kopi Sultan       1.0   \n",
       "997        TSC0J3  1/14/2023       Main Course    Bolognaise       1.0   \n",
       "998        TSC0J3  1/14/2023         Side Dish   Sosis Bakar       1.0   \n",
       "999        TSC0J5  1/14/2023               Tea     Lemon Tea       1.0   \n",
       "\n",
       "     NetSales  \n",
       "0     14400.0  \n",
       "1     20800.0  \n",
       "2     16000.0  \n",
       "3     78000.0  \n",
       "4     26000.0  \n",
       "..        ...  \n",
       "995   30000.0  \n",
       "996   29000.0  \n",
       "997   40000.0  \n",
       "998   28000.0  \n",
       "999   26000.0  \n",
       "\n",
       "[1000 rows x 6 columns]"
      ]
     },
     "execution_count": 121,
     "metadata": {},
     "output_type": "execute_result"
    }
   ],
   "source": [
    "df.head(1000)"
   ]
  },
  {
   "cell_type": "code",
   "execution_count": 79,
   "metadata": {},
   "outputs": [
    {
     "data": {
      "text/plain": [
       "ReceiptNumber     object\n",
       "Date              object\n",
       "Items             object\n",
       "Quantity         float64\n",
       "NetSales         float64\n",
       "dtype: object"
      ]
     },
     "execution_count": 79,
     "metadata": {},
     "output_type": "execute_result"
    }
   ],
   "source": [
    "df.dtypes"
   ]
  },
  {
   "cell_type": "code",
   "execution_count": 221,
   "metadata": {},
   "outputs": [
    {
     "data": {
      "text/html": [
       "<div>\n",
       "<style scoped>\n",
       "    .dataframe tbody tr th:only-of-type {\n",
       "        vertical-align: middle;\n",
       "    }\n",
       "\n",
       "    .dataframe tbody tr th {\n",
       "        vertical-align: top;\n",
       "    }\n",
       "\n",
       "    .dataframe thead th {\n",
       "        text-align: right;\n",
       "    }\n",
       "</style>\n",
       "<table border=\"1\" class=\"dataframe\">\n",
       "  <thead>\n",
       "    <tr style=\"text-align: right;\">\n",
       "      <th></th>\n",
       "      <th>Date</th>\n",
       "    </tr>\n",
       "    <tr>\n",
       "      <th>Items</th>\n",
       "      <th></th>\n",
       "    </tr>\n",
       "  </thead>\n",
       "  <tbody>\n",
       "    <tr>\n",
       "      <th>Aglio Oglio</th>\n",
       "      <td>118</td>\n",
       "    </tr>\n",
       "    <tr>\n",
       "      <th>Brownies Choco</th>\n",
       "      <td>89</td>\n",
       "    </tr>\n",
       "    <tr>\n",
       "      <th>Kopi Baileys</th>\n",
       "      <td>126</td>\n",
       "    </tr>\n",
       "    <tr>\n",
       "      <th>Lemon Tea</th>\n",
       "      <td>124</td>\n",
       "    </tr>\n",
       "    <tr>\n",
       "      <th>Lychee Yakult</th>\n",
       "      <td>4</td>\n",
       "    </tr>\n",
       "    <tr>\n",
       "      <th>Richbowl Rib Eye Sambal Matah</th>\n",
       "      <td>107</td>\n",
       "    </tr>\n",
       "    <tr>\n",
       "      <th>Strawberry Yakult</th>\n",
       "      <td>134</td>\n",
       "    </tr>\n",
       "  </tbody>\n",
       "</table>\n",
       "</div>"
      ],
      "text/plain": [
       "                                Date\n",
       "Items                               \n",
       "Aglio Oglio                      118\n",
       "Brownies Choco                    89\n",
       "Kopi Baileys                     126\n",
       "Lemon Tea                        124\n",
       "Lychee Yakult                      4\n",
       "Richbowl Rib Eye Sambal Matah    107\n",
       "Strawberry Yakult                134"
      ]
     },
     "execution_count": 221,
     "metadata": {},
     "output_type": "execute_result"
    }
   ],
   "source": [
    "#recency\n",
    "\n",
    "day='2023-06-01'\n",
    "day=pd.to_datetime(day)\n",
    "df['Date']=pd.to_datetime(df['Date'])\n",
    "\n",
    "result_df = df.drop_duplicates(subset='Items', keep=False)\n",
    "recency = result_df.groupby(['Items']).agg({'Date': lambda x: ((day-x.max()).days)})\n",
    "recency.head(100)"
   ]
  },
  {
   "cell_type": "code",
   "execution_count": 134,
   "metadata": {},
   "outputs": [],
   "source": [
    "#frecuency\n",
    "\n",
    "freq1= df.groupby(['Category', 'Items']).size()"
   ]
  },
  {
   "cell_type": "code",
   "execution_count": 135,
   "metadata": {},
   "outputs": [
    {
     "data": {
      "text/plain": [
       "Category  Items            \n",
       "Bakery    Almond Croissant      65\n",
       "          Butter Croissant      73\n",
       "          Koighn - Amann        49\n",
       "Blend     Cookies & Cream       14\n",
       "Blend     Cookies & Cream      138\n",
       "                              ... \n",
       "Gofood    Kopi Rakyat           36\n",
       "          Kopi Sultan           12\n",
       "          Lychee Tea             1\n",
       "          Lychee Yakult          1\n",
       "          Mango Milk             1\n",
       "Length: 100, dtype: int64"
      ]
     },
     "execution_count": 135,
     "metadata": {},
     "output_type": "execute_result"
    }
   ],
   "source": [
    "freq1.head(100)"
   ]
  },
  {
   "cell_type": "code",
   "execution_count": 179,
   "metadata": {},
   "outputs": [],
   "source": [
    "freq2 = df.groupby(['Category', 'Items']).size().sort_values(ascending=False)"
   ]
  },
  {
   "cell_type": "code",
   "execution_count": 137,
   "metadata": {},
   "outputs": [
    {
     "data": {
      "text/plain": [
       "Category           Items          \n",
       "Signature Coffee   Kopi Rakyat        2740\n",
       "Shopee             Kopi Rakyat         778\n",
       "Signature Coffee   Kopi Rakyat         561\n",
       "Tea                Lychee Tea          531\n",
       "Signature Coffee   Kopi Sultan         420\n",
       "                                      ... \n",
       "Gofood             Kopi Rakyat          36\n",
       "Gofood             Choco Origin         35\n",
       "Main Course        Bolognaise           33\n",
       "Gofood             Black Coffee         33\n",
       "Signature Coffee   Kopi Dewan           32\n",
       "Length: 100, dtype: int64"
      ]
     },
     "execution_count": 137,
     "metadata": {},
     "output_type": "execute_result"
    }
   ],
   "source": [
    "freq2.head(100)"
   ]
  },
  {
   "cell_type": "code",
   "execution_count": 222,
   "metadata": {},
   "outputs": [],
   "source": [
    "freq=df.groupby([\"Items\"])[[\"Category\"]].count()"
   ]
  },
  {
   "cell_type": "code",
   "execution_count": 223,
   "metadata": {},
   "outputs": [
    {
     "data": {
      "text/html": [
       "<div>\n",
       "<style scoped>\n",
       "    .dataframe tbody tr th:only-of-type {\n",
       "        vertical-align: middle;\n",
       "    }\n",
       "\n",
       "    .dataframe tbody tr th {\n",
       "        vertical-align: top;\n",
       "    }\n",
       "\n",
       "    .dataframe thead th {\n",
       "        text-align: right;\n",
       "    }\n",
       "</style>\n",
       "<table border=\"1\" class=\"dataframe\">\n",
       "  <thead>\n",
       "    <tr style=\"text-align: right;\">\n",
       "      <th></th>\n",
       "      <th>Category</th>\n",
       "    </tr>\n",
       "    <tr>\n",
       "      <th>Items</th>\n",
       "      <th></th>\n",
       "    </tr>\n",
       "  </thead>\n",
       "  <tbody>\n",
       "    <tr>\n",
       "      <th></th>\n",
       "      <td>21</td>\n",
       "    </tr>\n",
       "    <tr>\n",
       "      <th>Aglio Oglio</th>\n",
       "      <td>1</td>\n",
       "    </tr>\n",
       "    <tr>\n",
       "      <th>Aglio Oglio</th>\n",
       "      <td>109</td>\n",
       "    </tr>\n",
       "    <tr>\n",
       "      <th>Aglio Oglio</th>\n",
       "      <td>7</td>\n",
       "    </tr>\n",
       "    <tr>\n",
       "      <th>Almond Croissant</th>\n",
       "      <td>65</td>\n",
       "    </tr>\n",
       "    <tr>\n",
       "      <th>...</th>\n",
       "      <td>...</td>\n",
       "    </tr>\n",
       "    <tr>\n",
       "      <th>Kopi Kow</th>\n",
       "      <td>76</td>\n",
       "    </tr>\n",
       "    <tr>\n",
       "      <th>Kopi Kow</th>\n",
       "      <td>24</td>\n",
       "    </tr>\n",
       "    <tr>\n",
       "      <th>Kopi Rakyat</th>\n",
       "      <td>561</td>\n",
       "    </tr>\n",
       "    <tr>\n",
       "      <th>Kopi Rakyat</th>\n",
       "      <td>339</td>\n",
       "    </tr>\n",
       "    <tr>\n",
       "      <th>Kopi Rakyat</th>\n",
       "      <td>2829</td>\n",
       "    </tr>\n",
       "  </tbody>\n",
       "</table>\n",
       "<p>100 rows × 1 columns</p>\n",
       "</div>"
      ],
      "text/plain": [
       "                   Category\n",
       "Items                      \n",
       "                         21\n",
       "Aglio Oglio               1\n",
       "Aglio Oglio             109\n",
       "Aglio Oglio               7\n",
       "Almond Croissant         65\n",
       "...                     ...\n",
       "Kopi Kow                 76\n",
       "Kopi Kow                 24\n",
       "Kopi Rakyat             561\n",
       "Kopi Rakyat             339\n",
       "Kopi Rakyat            2829\n",
       "\n",
       "[100 rows x 1 columns]"
      ]
     },
     "execution_count": 223,
     "metadata": {},
     "output_type": "execute_result"
    }
   ],
   "source": [
    "freq.head(100)"
   ]
  },
  {
   "cell_type": "code",
   "execution_count": null,
   "metadata": {},
   "outputs": [],
   "source": [
    "freq3=df.groupby([\"Category\"])[[\"Items\"]].value_counts(ascending=True)"
   ]
  },
  {
   "cell_type": "code",
   "execution_count": 192,
   "metadata": {},
   "outputs": [
    {
     "data": {
      "text/plain": [
       "Category        Items              \n",
       "Bakery          Koighn - Amann          49\n",
       "                Almond Croissant        65\n",
       "                Butter Croissant        73\n",
       "Blend           Cookies & Cream         14\n",
       "Blend           Cookies & Cream        138\n",
       "                                      ... \n",
       "Yakult Series   Lychee Yakult            6\n",
       "                Lychee Yakult           14\n",
       "Yakult Series   Mango Yakult            52\n",
       "                Strawberry Yakult       89\n",
       "                Lychee Yakult          110\n",
       "Name: count, Length: 301, dtype: int64"
      ]
     },
     "execution_count": 192,
     "metadata": {},
     "output_type": "execute_result"
    }
   ],
   "source": [
    "freq3.head(1000)"
   ]
  },
  {
   "cell_type": "code",
   "execution_count": 157,
   "metadata": {},
   "outputs": [],
   "source": [
    "#Monetary\n",
    "df[\"total\"] = df[\"NetSales\"]*df[\"Quantity\"]"
   ]
  },
  {
   "cell_type": "code",
   "execution_count": 158,
   "metadata": {},
   "outputs": [
    {
     "data": {
      "text/html": [
       "<div>\n",
       "<style scoped>\n",
       "    .dataframe tbody tr th:only-of-type {\n",
       "        vertical-align: middle;\n",
       "    }\n",
       "\n",
       "    .dataframe tbody tr th {\n",
       "        vertical-align: top;\n",
       "    }\n",
       "\n",
       "    .dataframe thead th {\n",
       "        text-align: right;\n",
       "    }\n",
       "</style>\n",
       "<table border=\"1\" class=\"dataframe\">\n",
       "  <thead>\n",
       "    <tr style=\"text-align: right;\">\n",
       "      <th></th>\n",
       "      <th>total</th>\n",
       "    </tr>\n",
       "    <tr>\n",
       "      <th>Items</th>\n",
       "      <th></th>\n",
       "    </tr>\n",
       "  </thead>\n",
       "  <tbody>\n",
       "    <tr>\n",
       "      <th></th>\n",
       "      <td>1086400.0</td>\n",
       "    </tr>\n",
       "    <tr>\n",
       "      <th>Aglio Oglio</th>\n",
       "      <td>40000.0</td>\n",
       "    </tr>\n",
       "    <tr>\n",
       "      <th>Aglio Oglio</th>\n",
       "      <td>6044000.0</td>\n",
       "    </tr>\n",
       "    <tr>\n",
       "      <th>Aglio Oglio</th>\n",
       "      <td>336000.0</td>\n",
       "    </tr>\n",
       "    <tr>\n",
       "      <th>Almond Croissant</th>\n",
       "      <td>2119000.0</td>\n",
       "    </tr>\n",
       "    <tr>\n",
       "      <th>...</th>\n",
       "      <td>...</td>\n",
       "    </tr>\n",
       "    <tr>\n",
       "      <th>Thai Tea</th>\n",
       "      <td>1338000.0</td>\n",
       "    </tr>\n",
       "    <tr>\n",
       "      <th>Vanilla Latte</th>\n",
       "      <td>857200.0</td>\n",
       "    </tr>\n",
       "    <tr>\n",
       "      <th>Vanilla Latte</th>\n",
       "      <td>126000.0</td>\n",
       "    </tr>\n",
       "    <tr>\n",
       "      <th>Vanilla Latte</th>\n",
       "      <td>1210000.0</td>\n",
       "    </tr>\n",
       "    <tr>\n",
       "      <th>Vanilla Latte</th>\n",
       "      <td>600000.0</td>\n",
       "    </tr>\n",
       "  </tbody>\n",
       "</table>\n",
       "<p>181 rows × 1 columns</p>\n",
       "</div>"
      ],
      "text/plain": [
       "                       total\n",
       "Items                       \n",
       "                   1086400.0\n",
       "Aglio Oglio          40000.0\n",
       "Aglio Oglio        6044000.0\n",
       "Aglio Oglio         336000.0\n",
       "Almond Croissant   2119000.0\n",
       "...                      ...\n",
       "Thai Tea           1338000.0\n",
       "Vanilla Latte       857200.0\n",
       "Vanilla Latte       126000.0\n",
       "Vanilla Latte      1210000.0\n",
       "Vanilla Latte       600000.0\n",
       "\n",
       "[181 rows x 1 columns]"
      ]
     },
     "execution_count": 158,
     "metadata": {},
     "output_type": "execute_result"
    }
   ],
   "source": [
    "#Monetary\n",
    "money = df.groupby(['Items'])[['total']].sum()\n",
    "money"
   ]
  },
  {
   "cell_type": "code",
   "execution_count": 91,
   "metadata": {},
   "outputs": [
    {
     "data": {
      "text/plain": [
       "ReceiptNumber            object\n",
       "Date             datetime64[ns]\n",
       "Items                    object\n",
       "Quantity                float64\n",
       "NetSales                float64\n",
       "total                   float64\n",
       "dtype: object"
      ]
     },
     "execution_count": 91,
     "metadata": {},
     "output_type": "execute_result"
    }
   ],
   "source": [
    "df.dtypes"
   ]
  },
  {
   "cell_type": "code",
   "execution_count": 232,
   "metadata": {},
   "outputs": [],
   "source": [
    "RFM=pd.concat([recency,freq,money],axis=1)\n",
    "recency.columns=[\"Recency\"]\n",
    "freq.columns=[\"Frecuency\"]\n",
    "money.columns=[\"Monetary\"]\n",
    "\n"
   ]
  },
  {
   "cell_type": "code",
   "execution_count": 233,
   "metadata": {},
   "outputs": [
    {
     "data": {
      "text/html": [
       "<div>\n",
       "<style scoped>\n",
       "    .dataframe tbody tr th:only-of-type {\n",
       "        vertical-align: middle;\n",
       "    }\n",
       "\n",
       "    .dataframe tbody tr th {\n",
       "        vertical-align: top;\n",
       "    }\n",
       "\n",
       "    .dataframe thead th {\n",
       "        text-align: right;\n",
       "    }\n",
       "</style>\n",
       "<table border=\"1\" class=\"dataframe\">\n",
       "  <thead>\n",
       "    <tr style=\"text-align: right;\">\n",
       "      <th></th>\n",
       "      <th>Date</th>\n",
       "      <th>Category</th>\n",
       "      <th>Monetary</th>\n",
       "    </tr>\n",
       "    <tr>\n",
       "      <th>Items</th>\n",
       "      <th></th>\n",
       "      <th></th>\n",
       "      <th></th>\n",
       "    </tr>\n",
       "  </thead>\n",
       "  <tbody>\n",
       "    <tr>\n",
       "      <th>Aglio Oglio</th>\n",
       "      <td>118.0</td>\n",
       "      <td>1</td>\n",
       "      <td>40000.0</td>\n",
       "    </tr>\n",
       "    <tr>\n",
       "      <th>Brownies Choco</th>\n",
       "      <td>89.0</td>\n",
       "      <td>1</td>\n",
       "      <td>17000.0</td>\n",
       "    </tr>\n",
       "    <tr>\n",
       "      <th>Kopi Baileys</th>\n",
       "      <td>126.0</td>\n",
       "      <td>1</td>\n",
       "      <td>25000.0</td>\n",
       "    </tr>\n",
       "    <tr>\n",
       "      <th>Lemon Tea</th>\n",
       "      <td>124.0</td>\n",
       "      <td>1</td>\n",
       "      <td>26000.0</td>\n",
       "    </tr>\n",
       "    <tr>\n",
       "      <th>Lychee Yakult</th>\n",
       "      <td>4.0</td>\n",
       "      <td>1</td>\n",
       "      <td>28000.0</td>\n",
       "    </tr>\n",
       "    <tr>\n",
       "      <th>...</th>\n",
       "      <td>...</td>\n",
       "      <td>...</td>\n",
       "      <td>...</td>\n",
       "    </tr>\n",
       "    <tr>\n",
       "      <th>Kopi Dewan</th>\n",
       "      <td>NaN</td>\n",
       "      <td>334</td>\n",
       "      <td>12815800.0</td>\n",
       "    </tr>\n",
       "    <tr>\n",
       "      <th>Kopi Dewan</th>\n",
       "      <td>NaN</td>\n",
       "      <td>102</td>\n",
       "      <td>8456640.0</td>\n",
       "    </tr>\n",
       "    <tr>\n",
       "      <th>Kopi Kow</th>\n",
       "      <td>NaN</td>\n",
       "      <td>12</td>\n",
       "      <td>713200.0</td>\n",
       "    </tr>\n",
       "    <tr>\n",
       "      <th>Kopi Kow</th>\n",
       "      <td>NaN</td>\n",
       "      <td>4</td>\n",
       "      <td>116000.0</td>\n",
       "    </tr>\n",
       "    <tr>\n",
       "      <th>Kopi Kow</th>\n",
       "      <td>NaN</td>\n",
       "      <td>76</td>\n",
       "      <td>3022800.0</td>\n",
       "    </tr>\n",
       "  </tbody>\n",
       "</table>\n",
       "<p>100 rows × 3 columns</p>\n",
       "</div>"
      ],
      "text/plain": [
       "                   Date  Category    Monetary\n",
       "Items                                        \n",
       "Aglio Oglio       118.0         1     40000.0\n",
       "Brownies Choco     89.0         1     17000.0\n",
       "Kopi Baileys      126.0         1     25000.0\n",
       "Lemon Tea         124.0         1     26000.0\n",
       "Lychee Yakult       4.0         1     28000.0\n",
       "...                 ...       ...         ...\n",
       "Kopi Dewan          NaN       334  12815800.0\n",
       "Kopi Dewan          NaN       102   8456640.0\n",
       "Kopi Kow            NaN        12    713200.0\n",
       "Kopi Kow            NaN         4    116000.0\n",
       "Kopi Kow            NaN        76   3022800.0\n",
       "\n",
       "[100 rows x 3 columns]"
      ]
     },
     "execution_count": 233,
     "metadata": {},
     "output_type": "execute_result"
    }
   ],
   "source": [
    "RFM.head(100)"
   ]
  },
  {
   "cell_type": "code",
   "execution_count": 234,
   "metadata": {},
   "outputs": [],
   "source": [
    "#Clustering\n",
    "from sklearn.preprocessing import StandardScaler\n",
    "from sklearn.impute import SimpleImputer\n",
    "\n",
    "sim = SimpleImputer(missing_values=np.nan, strategy='mean')\n",
    "imputed_data = sim.fit_transform(RFM)\n",
    "\n",
    "scaler=StandardScaler()\n",
    "scaled=scaler.fit_transform(imputed_data)\n",
    "\n",
    "\n"
   ]
  },
  {
   "cell_type": "code",
   "execution_count": 170,
   "metadata": {},
   "outputs": [
    {
     "name": "stderr",
     "output_type": "stream",
     "text": [
      "c:\\Users\\1567\\AppData\\Local\\Programs\\Python\\Python311\\Lib\\site-packages\\sklearn\\cluster\\_kmeans.py:1412: FutureWarning: The default value of `n_init` will change from 10 to 'auto' in 1.4. Set the value of `n_init` explicitly to suppress the warning\n",
      "  super()._check_params_vs_input(X, default_n_init=10)\n",
      "c:\\Users\\1567\\AppData\\Local\\Programs\\Python\\Python311\\Lib\\site-packages\\sklearn\\cluster\\_kmeans.py:1412: FutureWarning: The default value of `n_init` will change from 10 to 'auto' in 1.4. Set the value of `n_init` explicitly to suppress the warning\n",
      "  super()._check_params_vs_input(X, default_n_init=10)\n",
      "c:\\Users\\1567\\AppData\\Local\\Programs\\Python\\Python311\\Lib\\site-packages\\sklearn\\cluster\\_kmeans.py:1412: FutureWarning: The default value of `n_init` will change from 10 to 'auto' in 1.4. Set the value of `n_init` explicitly to suppress the warning\n",
      "  super()._check_params_vs_input(X, default_n_init=10)\n",
      "c:\\Users\\1567\\AppData\\Local\\Programs\\Python\\Python311\\Lib\\site-packages\\sklearn\\cluster\\_kmeans.py:1412: FutureWarning: The default value of `n_init` will change from 10 to 'auto' in 1.4. Set the value of `n_init` explicitly to suppress the warning\n",
      "  super()._check_params_vs_input(X, default_n_init=10)\n",
      "c:\\Users\\1567\\AppData\\Local\\Programs\\Python\\Python311\\Lib\\site-packages\\sklearn\\cluster\\_kmeans.py:1412: FutureWarning: The default value of `n_init` will change from 10 to 'auto' in 1.4. Set the value of `n_init` explicitly to suppress the warning\n",
      "  super()._check_params_vs_input(X, default_n_init=10)\n",
      "c:\\Users\\1567\\AppData\\Local\\Programs\\Python\\Python311\\Lib\\site-packages\\sklearn\\cluster\\_kmeans.py:1412: FutureWarning: The default value of `n_init` will change from 10 to 'auto' in 1.4. Set the value of `n_init` explicitly to suppress the warning\n",
      "  super()._check_params_vs_input(X, default_n_init=10)\n",
      "c:\\Users\\1567\\AppData\\Local\\Programs\\Python\\Python311\\Lib\\site-packages\\sklearn\\cluster\\_kmeans.py:1412: FutureWarning: The default value of `n_init` will change from 10 to 'auto' in 1.4. Set the value of `n_init` explicitly to suppress the warning\n",
      "  super()._check_params_vs_input(X, default_n_init=10)\n"
     ]
    },
    {
     "data": {
      "image/png": "[encoded data removed]",
      "text/plain": [
       "<Figure size 640x480 with 1 Axes>"
      ]
     },
     "metadata": {},
     "output_type": "display_data"
    }
   ],
   "source": [
    "#Clustering\n",
    "from sklearn.cluster import KMeans\n",
    "\n",
    "inertia=[]\n",
    "for i in np.arange(1,8):\n",
    "    kmeans=KMeans(n_clusters=i)\n",
    "    kmeans.fit(scaled)\n",
    "    inertia.append(kmeans.inertia_)\n",
    "    plt.plot(inertia, marker='o')\n",
    "    "
   ]
  }
 ],
 "metadata": {
  "kernelspec": {
   "display_name": "Python 3",
   "language": "python",
   "name": "python3"
  },
  "language_info": {
   "codemirror_mode": {
    "name": "ipython",
    "version": 3
   },
   "file_extension": ".py",
   "mimetype": "text/x-python",
   "name": "python",
   "nbconvert_exporter": "python",
   "pygments_lexer": "ipython3",
   "version": "3.11.5"
  },
  "orig_nbformat": 4
 },
 "nbformat": 4,
 "nbformat_minor": 2
}
